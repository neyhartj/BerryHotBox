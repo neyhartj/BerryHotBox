{
 "cells": [
  {
   "cell_type": "markdown",
   "id": "4d076506",
   "metadata": {},
   "source": [
    "# Control FLIR A70 Thermal Camera\n",
    "\n",
    "## TESTING\n",
    "\n",
    "This is a testing notebook for controlling a FLIR A70 thermal camera using a python workflow\n",
    "\n",
    "### Potentially helpful information\n",
    "\n",
    "IP address of the FLIR camera: 169.254.0.1"
   ]
  },
  {
   "cell_type": "markdown",
   "id": "0a50e95b",
   "metadata": {},
   "source": [
    "### Test 1: connect to the camera\n",
    "\n",
    "Try using API requests to download the current image from the camera"
   ]
  },
  {
   "cell_type": "code",
   "execution_count": null,
   "id": "93d5475b",
   "metadata": {},
   "outputs": [],
   "source": [
    "# Packages to load\n",
    "import requests\n",
    "import os\n",
    "from datetime import datetime, date\n",
    "import time\n",
    "\n",
    "# Frequency (seconds) between camera captures\n",
    "capture_freq_seconds = 5\n",
    "\n",
    "# Total length of capture session\n",
    "capture_length_seconds = 60\n",
    "\n",
    "# Directory to store images\n",
    "output_dir = os.path.join(os.getcwd(), \"raw_rjpeg_images\")\n",
    "if not os.path.exists(output_dir):\n",
    "    os.makedirs(output_dir) \n",
    "\n",
    "# Set the IP address of the FLIR camera\n",
    "flirip = \"169.254.0.1\" # IP address of the camera\n"
   ]
  },
  {
   "cell_type": "code",
   "execution_count": 2,
   "id": "9ef97255",
   "metadata": {
    "scrolled": true
   },
   "outputs": [],
   "source": [
    "# Start time\n",
    "start_time = time.time()\n",
    "current_time = time.time()\n",
    "\n",
    "# Get the date\n",
    "clocaltime = time.localtime()\n",
    "\n",
    "# API request for a IR image\n",
    "api_request_ir = \"http://\" + flirip + \"/api/image/current?imgformat=JPEG\"\n",
    "# API request for a visual image\n",
    "api_request_visual = \"http://\" + flirip + \"/api/image/current?imgformat=JPEG_visual_small\"\n",
    "\n",
    "# Capture a RGB image at the beginning\n",
    "filename = output_dir + \"/hotbox_flir_visual_\" + time.strftime(\"%Y%m%d_%H%M%S\", clocaltime) + \".jpg\"\n",
    "with open(filename, 'wb') as f:\n",
    "    f.write(requests.get(api_request_visual).content)\n",
    "\n",
    "# Loop and save a bunch of images\n",
    "i = 0\n",
    "while current_time - start_time <= capture_length_seconds:\n",
    "    \n",
    "    # Reset the current time\n",
    "    current_time = time.time()\n",
    "    \n",
    "    # Get date and time\n",
    "    clocaltime = time.localtime()\n",
    "\n",
    "    filename = output_dir + \"/hotbox_flir_rjpeg_frame_\" + str(i).zfill(3) + \"_\" + time.strftime(\"%Y%m%d_%H%M%S\", clocaltime) + \".jpg\"\n",
    "    with open(filename, 'wb') as f:\n",
    "        f.write(requests.get(api_request_ir).content)\n",
    "    \n",
    "    \n",
    "    # Delay for capture_freq_seconds\n",
    "    time.sleep(capture_freq_seconds)\n",
    "    \n",
    "    # Advance frame count\n",
    "    i+=1\n"
   ]
  },
  {
   "cell_type": "code",
   "execution_count": 4,
   "id": "28cc0d51",
   "metadata": {},
   "outputs": [
    {
     "data": {
      "text/plain": [
       "60.67131853103638"
      ]
     },
     "execution_count": 4,
     "metadata": {},
     "output_type": "execute_result"
    }
   ],
   "source": [
    "current_time - start_time"
   ]
  },
  {
   "cell_type": "code",
   "execution_count": null,
   "id": "a761b6d0",
   "metadata": {},
   "outputs": [],
   "source": [
    "import flirimageextractor\n",
    "from matplotlib import cm\n",
    "\n",
    "flir = flirimageextractor.FlirImageExtractor(palettes=[cm.jet, cm.bwr, cm.gist_ncar])\n",
    "\n",
    "# Read in an image\n",
    "images = os.listdir(output_dir)\n",
    "\n",
    "img = images[0]\n"
   ]
  }
 ],
 "metadata": {
  "kernelspec": {
   "display_name": "Python 3",
   "language": "python",
   "name": "python3"
  },
  "language_info": {
   "codemirror_mode": {
    "name": "ipython",
    "version": 3
   },
   "file_extension": ".py",
   "mimetype": "text/x-python",
   "name": "python",
   "nbconvert_exporter": "python",
   "pygments_lexer": "ipython3",
   "version": "3.8.8"
  }
 },
 "nbformat": 4,
 "nbformat_minor": 5
}
